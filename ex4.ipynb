{
 "cells": [
  {
   "cell_type": "code",
   "execution_count": 2,
   "metadata": {
    "collapsed": true
   },
   "outputs": [],
   "source": [
    "import nltk\n",
    "from collections import deque\n",
    "# nltk.download('dependency_treebank')\n",
    "from nltk.corpus import dependency_treebank\n",
    "import numpy as np\n",
    "\n",
    "sents = dependency_treebank.parsed_sents()\n",
    "\n",
    "ROOT_NODE = {'word': 'ROOT', 'tag':'ROOT'}\n",
    "\n",
    "train_set, test_set = sents[:int(0.9*len(sents))], sents[int(0.9*len(sents)):]"
   ]
  },
  {
   "cell_type": "code",
   "execution_count": null,
   "outputs": [],
   "source": [
    "from collections import defaultdict\n",
    "\n",
    "\n",
    "# def create_hot_vec(sent):\n",
    "#     word_vec_dict,tag_vec_dict = defaultdict(int), defaultdict(int)\n",
    "#     for val1 in vals:\n",
    "#         for val2 in vals:\n",
    "#             vec_dict[(val1,val2)] = 0\n",
    "#     return vec_dict\n",
    "\n",
    "def fill_hot_vec(sent):\n",
    "    hot_vec = defaultdict(int)\n",
    "    for i in range(len(sent.nodes)):\n",
    "        dest_node = sent.nodes[i]\n",
    "        source_node = sent.nodes[dest_node['head']] if dest_node['head'] else ROOT_NODE\n",
    "        source_word, source_tag = source_node['word'],source_node['tag']\n",
    "        dest_word , dest_tag = dest_node['word'], dest_node['tag']\n",
    "        hot_vec[(source_word,dest_word)] = 1\n",
    "        hot_vec[(source_tag,dest_tag)] = 1\n",
    "    return hot_vec\n",
    "\n",
    "    # return np.concatenate((vocab_hot_vec,tags_hot_vec),axis=0)\n",
    "\n",
    "def get_feature_func(sent):\n",
    "    tags,vocab = dict(), dict()\n",
    "    nodes_stack = [sent.nodes[i] for i in range(len(sent.nodes))]\n",
    "    words_ind,tag_ind =0,0\n",
    "    for i in range(len(nodes_stack)):\n",
    "        node = nodes_stack[i]\n",
    "        if node['word'] not in vocab:\n",
    "            vocab[node['word']] = words_ind\n",
    "            words_ind+=1\n",
    "        if node['tag'] not in tags:\n",
    "            tags[node['tag']] = tag_ind\n",
    "            tag_ind+=1\n",
    "    return fill_hot_vec(sent)\n",
    "a = get_feature_func(train_set[1])"
   ],
   "metadata": {
    "collapsed": false,
    "pycharm": {
     "is_executing": true
    }
   }
  },
  {
   "cell_type": "code",
   "execution_count": null,
   "outputs": [],
   "source": [
    "LEARNING_RATE = 1\n",
    "def perceptron(X, y0, max_iter=1000):\n",
    "    \"\"\"\n",
    "    :param X: samples matrix (N x P)\n",
    "    :param y0: labels vector (P x 1)\n",
    "    :param max_iter: maximal number of iterations\n",
    "    :return: [w, converged, epochs], 'w' being the final weights vector, 'converged' as a flag indicating convergence of\n",
    "    the algorithm and 'epochs' as the number of epochs executed.\n",
    "    \"\"\"\n",
    "    it = 0\n",
    "    w = np.ones((X.shape[0],))\n",
    "    changed = True\n",
    "\n",
    "    while it < max_iter and changed:\n",
    "\n",
    "        changed = False\n",
    "\n",
    "        for i in range(X.shape[1]):\n",
    "\n",
    "            if ((w.T @ X[:, i]) * y0[i]) < 0:\n",
    "                w += LEARNING_RATE * X[:, i] * y0[i]\n",
    "                changed = True\n",
    "\n",
    "        it += 1\n",
    "\n",
    "    return [w, it < max_iter, it]\n",
    "\n"
   ],
   "metadata": {
    "collapsed": false
   }
  },
  {
   "cell_type": "code",
   "execution_count": 1,
   "outputs": [
    {
     "ename": "SyntaxError",
     "evalue": "invalid syntax (4079581558.py, line 6)",
     "output_type": "error",
     "traceback": [
      "\u001B[1;36m  Cell \u001B[1;32mIn [1], line 6\u001B[1;36m\u001B[0m\n\u001B[1;33m    ROOT_NODE =\u001B[0m\n\u001B[1;37m               ^\u001B[0m\n\u001B[1;31mSyntaxError\u001B[0m\u001B[1;31m:\u001B[0m invalid syntax\n"
     ]
    }
   ],
   "source": [
    "from collections import namedtuple\n",
    "from Chu_Liu_Edmonds_algorithm import min_spanning_arborescence_nx\n",
    "\n",
    "Arc = namedtuple('Arc', ['head', 'tail'])\n",
    "WeightedArc = namedtuple('WeightedArc', ['head', 'tail', 'weight'])\n",
    "\n",
    "\n",
    "def get_weighted_arcs(sent, sent_feature_func, weights):\n",
    "    out_arcs = []\n",
    "    words_features, tags_features = sent_feature_func[0], sent_feature_func[1]\n",
    "\n",
    "    for i in range(len(sent.nodes)):\n",
    "        new_val = 0\n",
    "        dest_node = sent.nodes[i]\n",
    "        source_node = sent.nodes[dest_node['head']] if dest_node['head'] else ROOT_NODE\n",
    "        source_word, source_tag = source_node['word'],source_node['tag']\n",
    "        dest_word , dest_tag = dest_node['word'], dest_node['tag']\n",
    "        word_arc, tag_arc = (source_word,dest_word), (source_tag,dest_tag)\n",
    "        new_val -= (words_features[word_arc] * weights[word_arc]) + (tags_features[tag_arc] * weights[word_arc])\n",
    "        out_arcs.append(WeightedArc(head=source_node,tail=dest_node, weight=new_val))\n",
    "    return out_arcs\n",
    "\n",
    "def get_mst(sents,sent_feature_func, weights):\n",
    "    return min_spanning_arborescence_nx(get_weighted_arcs(sents,sent_feature_func,weights),None)\n",
    "\n",
    "\n",
    "def get_mst_feature_func(mst,sent):\n",
    "    hot_vec = defaultdict(int)\n",
    "    for arc in mst.values():\n",
    "        source_ind, dest_ind = arc.head, arc.tail\n",
    "        if source_ind:\n",
    "\n",
    "            hot_vec[(sent.nodes[source_ind]['tag'], sent.nodes[dest_ind]['tag'])] = 1\n",
    "            hot_vec[(sent.nodes[source_ind]['word'], sent.nodes[dest_ind]['word'])] = 1\n",
    "        else:\n",
    "            ### Root\n",
    "            hot_vec[('ROOT', sent.nodes[dest_ind]['tag'])] = 1\n",
    "            hot_vec[('ROOT', sent.nodes[dest_ind]['word'])] = 1\n",
    "\n",
    "    return hot_vec\n",
    "\n",
    "\n",
    "\n",
    "\n"
   ],
   "metadata": {
    "collapsed": false
   }
  }
 ],
 "metadata": {
  "kernelspec": {
   "display_name": "Python 3",
   "language": "python",
   "name": "python3"
  },
  "language_info": {
   "codemirror_mode": {
    "name": "ipython",
    "version": 2
   },
   "file_extension": ".py",
   "mimetype": "text/x-python",
   "name": "python",
   "nbconvert_exporter": "python",
   "pygments_lexer": "ipython2",
   "version": "2.7.6"
  }
 },
 "nbformat": 4,
 "nbformat_minor": 0
}
