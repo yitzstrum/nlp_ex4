{
 "cells": [
  {
   "cell_type": "code",
   "execution_count": 2,
   "metadata": {
    "collapsed": true
   },
   "outputs": [],
   "source": [
    "import nltk\n",
    "from collections import deque\n",
    "# nltk.download('dependency_treebank')\n",
    "from nltk.corpus import dependency_treebank\n",
    "import numpy as np\n",
    "\n",
    "sents = dependency_treebank.parsed_sents()\n",
    "\n",
    "ROOT_NODE = {'word': 'ROOT', 'tag':'ROOT'}\n",
    "\n",
    "train_set, test_set = sents[:int(0.9*len(sents))], sents[int(0.9*len(sents)):]"
   ]
  },
  {
   "cell_type": "code",
   "execution_count": 3,
   "outputs": [
    {
     "ename": "KeyboardInterrupt",
     "evalue": "",
     "output_type": "error",
     "traceback": [
      "\u001B[1;31m---------------------------------------------------------------------------\u001B[0m",
      "\u001B[1;31mKeyboardInterrupt\u001B[0m                         Traceback (most recent call last)",
      "Cell \u001B[1;32mIn [3], line 37\u001B[0m\n\u001B[0;32m     35\u001B[0m             tag_ind\u001B[38;5;241m+\u001B[39m\u001B[38;5;241m=\u001B[39m\u001B[38;5;241m1\u001B[39m\n\u001B[0;32m     36\u001B[0m     \u001B[38;5;28;01mreturn\u001B[39;00m fill_hot_vec(sent)\n\u001B[1;32m---> 37\u001B[0m a \u001B[38;5;241m=\u001B[39m \u001B[43mget_feature_func\u001B[49m(train_set[\u001B[38;5;241m1\u001B[39m])\n",
      "Cell \u001B[1;32mIn [3], line 37\u001B[0m\n\u001B[0;32m     35\u001B[0m             tag_ind\u001B[38;5;241m+\u001B[39m\u001B[38;5;241m=\u001B[39m\u001B[38;5;241m1\u001B[39m\n\u001B[0;32m     36\u001B[0m     \u001B[38;5;28;01mreturn\u001B[39;00m fill_hot_vec(sent)\n\u001B[1;32m---> 37\u001B[0m a \u001B[38;5;241m=\u001B[39m \u001B[43mget_feature_func\u001B[49m(train_set[\u001B[38;5;241m1\u001B[39m])\n",
      "File \u001B[1;32m_pydevd_bundle\\pydevd_cython_win32_38_64.pyx:1179\u001B[0m, in \u001B[0;36m_pydevd_bundle.pydevd_cython_win32_38_64.SafeCallWrapper.__call__\u001B[1;34m()\u001B[0m\n",
      "File \u001B[1;32m_pydevd_bundle\\pydevd_cython_win32_38_64.pyx:620\u001B[0m, in \u001B[0;36m_pydevd_bundle.pydevd_cython_win32_38_64.PyDBFrame.trace_dispatch\u001B[1;34m()\u001B[0m\n",
      "File \u001B[1;32m_pydevd_bundle\\pydevd_cython_win32_38_64.pyx:929\u001B[0m, in \u001B[0;36m_pydevd_bundle.pydevd_cython_win32_38_64.PyDBFrame.trace_dispatch\u001B[1;34m()\u001B[0m\n",
      "File \u001B[1;32m_pydevd_bundle\\pydevd_cython_win32_38_64.pyx:920\u001B[0m, in \u001B[0;36m_pydevd_bundle.pydevd_cython_win32_38_64.PyDBFrame.trace_dispatch\u001B[1;34m()\u001B[0m\n",
      "File \u001B[1;32m_pydevd_bundle\\pydevd_cython_win32_38_64.pyx:317\u001B[0m, in \u001B[0;36m_pydevd_bundle.pydevd_cython_win32_38_64.PyDBFrame.do_wait_suspend\u001B[1;34m()\u001B[0m\n",
      "File \u001B[1;32m~\\AppData\\Local\\JetBrains\\Toolbox\\apps\\PyCharm-P\\ch-0\\222.4459.20\\plugins\\python\\helpers\\pydev\\pydevd.py:1160\u001B[0m, in \u001B[0;36mPyDB.do_wait_suspend\u001B[1;34m(self, thread, frame, event, arg, send_suspend_message, is_unhandled_exception)\u001B[0m\n\u001B[0;32m   1157\u001B[0m         from_this_thread\u001B[38;5;241m.\u001B[39mappend(frame_id)\n\u001B[0;32m   1159\u001B[0m \u001B[38;5;28;01mwith\u001B[39;00m \u001B[38;5;28mself\u001B[39m\u001B[38;5;241m.\u001B[39m_threads_suspended_single_notification\u001B[38;5;241m.\u001B[39mnotify_thread_suspended(thread_id, stop_reason):\n\u001B[1;32m-> 1160\u001B[0m     \u001B[38;5;28;43mself\u001B[39;49m\u001B[38;5;241;43m.\u001B[39;49m\u001B[43m_do_wait_suspend\u001B[49m\u001B[43m(\u001B[49m\u001B[43mthread\u001B[49m\u001B[43m,\u001B[49m\u001B[43m \u001B[49m\u001B[43mframe\u001B[49m\u001B[43m,\u001B[49m\u001B[43m \u001B[49m\u001B[43mevent\u001B[49m\u001B[43m,\u001B[49m\u001B[43m \u001B[49m\u001B[43marg\u001B[49m\u001B[43m,\u001B[49m\u001B[43m \u001B[49m\u001B[43msuspend_type\u001B[49m\u001B[43m,\u001B[49m\u001B[43m \u001B[49m\u001B[43mfrom_this_thread\u001B[49m\u001B[43m)\u001B[49m\n",
      "File \u001B[1;32m~\\AppData\\Local\\JetBrains\\Toolbox\\apps\\PyCharm-P\\ch-0\\222.4459.20\\plugins\\python\\helpers\\pydev\\pydevd.py:1175\u001B[0m, in \u001B[0;36mPyDB._do_wait_suspend\u001B[1;34m(self, thread, frame, event, arg, suspend_type, from_this_thread)\u001B[0m\n\u001B[0;32m   1172\u001B[0m             \u001B[38;5;28mself\u001B[39m\u001B[38;5;241m.\u001B[39m_call_mpl_hook()\n\u001B[0;32m   1174\u001B[0m         \u001B[38;5;28mself\u001B[39m\u001B[38;5;241m.\u001B[39mprocess_internal_commands()\n\u001B[1;32m-> 1175\u001B[0m         \u001B[43mtime\u001B[49m\u001B[38;5;241;43m.\u001B[39;49m\u001B[43msleep\u001B[49m\u001B[43m(\u001B[49m\u001B[38;5;241;43m0.01\u001B[39;49m\u001B[43m)\u001B[49m\n\u001B[0;32m   1177\u001B[0m \u001B[38;5;28mself\u001B[39m\u001B[38;5;241m.\u001B[39mcancel_async_evaluation(get_current_thread_id(thread), \u001B[38;5;28mstr\u001B[39m(\u001B[38;5;28mid\u001B[39m(frame)))\n\u001B[0;32m   1179\u001B[0m \u001B[38;5;66;03m# process any stepping instructions\u001B[39;00m\n",
      "\u001B[1;31mKeyboardInterrupt\u001B[0m: "
     ]
    }
   ],
   "source": [
    "from collections import defaultdict\n",
    "\n",
    "\n",
    "# def create_hot_vec(sent):\n",
    "#     word_vec_dict,tag_vec_dict = defaultdict(int), defaultdict(int)\n",
    "#     for val1 in vals:\n",
    "#         for val2 in vals:\n",
    "#             vec_dict[(val1,val2)] = 0\n",
    "#     return vec_dict\n",
    "\n",
    "def fill_hot_vec(sent):\n",
    "    hot_vec = defaultdict(int)\n",
    "    for i in range(len(sent.nodes)):\n",
    "        dest_node = sent.nodes[i]\n",
    "        source_node = sent.nodes[dest_node['head']] if dest_node['head'] else ROOT_NODE\n",
    "        source_word, source_tag = source_node['word'],source_node['tag']\n",
    "        dest_word , dest_tag = dest_node['word'], dest_node['tag']\n",
    "        hot_vec[(source_word,dest_word)] = 1\n",
    "        hot_vec[(source_tag,dest_tag)] = 1\n",
    "    return hot_vec\n",
    "\n",
    "    # return np.concatenate((vocab_hot_vec,tags_hot_vec),axis=0)\n",
    "\n",
    "def get_feature_func(sent):\n",
    "    tags,vocab = dict(), dict()\n",
    "    nodes_stack = [sent.nodes[i] for i in range(len(sent.nodes))]\n",
    "    words_ind,tag_ind =0,0\n",
    "    for i in range(len(nodes_stack)):\n",
    "        node = nodes_stack[i]\n",
    "        if node['word'] not in vocab:\n",
    "            vocab[node['word']] = words_ind\n",
    "            words_ind+=1\n",
    "        if node['tag'] not in tags:\n",
    "            tags[node['tag']] = tag_ind\n",
    "            tag_ind+=1\n",
    "    return fill_hot_vec(sent)\n",
    "a = get_feature_func(train_set[1])"
   ],
   "metadata": {
    "collapsed": false
   }
  },
  {
   "cell_type": "code",
   "execution_count": null,
   "outputs": [],
   "source": [
    "LEARNING_RATE = 1\n",
    "def perceptron(X, y0, max_iter=1000):\n",
    "    \"\"\"\n",
    "    :param X: samples matrix (N x P)\n",
    "    :param y0: labels vector (P x 1)\n",
    "    :param max_iter: maximal number of iterations\n",
    "    :return: [w, converged, epochs], 'w' being the final weights vector, 'converged' as a flag indicating convergence of\n",
    "    the algorithm and 'epochs' as the number of epochs executed.\n",
    "    \"\"\"\n",
    "    it = 0\n",
    "    w = np.ones((X.shape[0],))\n",
    "    changed = True\n",
    "\n",
    "    while it < max_iter and changed:\n",
    "\n",
    "        changed = False\n",
    "\n",
    "        for i in range(X.shape[1]):\n",
    "\n",
    "            if ((w.T @ X[:, i]) * y0[i]) < 0:\n",
    "                w += LEARNING_RATE * X[:, i] * y0[i]\n",
    "                changed = True\n",
    "\n",
    "        it += 1\n",
    "\n",
    "    return [w, it < max_iter, it]\n",
    "\n"
   ],
   "metadata": {
    "collapsed": false
   }
  },
  {
   "cell_type": "code",
   "execution_count": 1,
   "outputs": [
    {
     "ename": "SyntaxError",
     "evalue": "invalid syntax (4079581558.py, line 6)",
     "output_type": "error",
     "traceback": [
      "\u001B[1;36m  Cell \u001B[1;32mIn [1], line 6\u001B[1;36m\u001B[0m\n\u001B[1;33m    ROOT_NODE =\u001B[0m\n\u001B[1;37m               ^\u001B[0m\n\u001B[1;31mSyntaxError\u001B[0m\u001B[1;31m:\u001B[0m invalid syntax\n"
     ]
    }
   ],
   "source": [
    "from collections import namedtuple\n",
    "from Chu_Liu_Edmonds_algorithm import min_spanning_arborescence_nx\n",
    "\n",
    "Arc = namedtuple('Arc', ['head', 'tail'])\n",
    "WeightedArc = namedtuple('WeightedArc', ['head', 'tail', 'weight'])\n",
    "\n",
    "\n",
    "def get_weighted_arcs(sent, sent_feature_func, weights):\n",
    "    out_arcs = []\n",
    "    words_features, tags_features = sent_feature_func[0], sent_feature_func[1]\n",
    "\n",
    "    for i in range(len(sent.nodes)):\n",
    "        new_val = 0\n",
    "        dest_node = sent.nodes[i]\n",
    "        source_node = sent.nodes[dest_node['head']] if dest_node['head'] else ROOT_NODE\n",
    "        source_word, source_tag = source_node['word'],source_node['tag']\n",
    "        dest_word , dest_tag = dest_node['word'], dest_node['tag']\n",
    "        word_arc, tag_arc = (source_word,dest_word), (source_tag,dest_tag)\n",
    "        new_val -= (words_features[word_arc] * weights[word_arc]) + (tags_features[tag_arc] * weights[word_arc])\n",
    "        out_arcs.append(WeightedArc(head=source_node,tail=dest_node, weight=new_val))\n",
    "    return out_arcs\n",
    "\n",
    "def get_mst(sents,sent_feature_func, weights):\n",
    "    return min_spanning_arborescence_nx(get_weighted_arcs(sents,sent_feature_func,weights),None)\n",
    "\n",
    "\n",
    "def get_mst_feature_func(mst,sent):\n",
    "    hot_vec = defaultdict(int)\n",
    "    for arc in mst.values():\n",
    "        source_ind, dest_ind = arc.head, arc.tail\n",
    "        if source_ind:\n",
    "\n",
    "            hot_vec[(sent.nodes[source_ind]['tag'], sent.nodes[dest_ind]['tag'])] = 1\n",
    "            hot_vec[(sent.nodes[source_ind]['word'], sent.nodes[dest_ind]['word'])] = 1\n",
    "        else:\n",
    "            ### Root\n",
    "            hot_vec[('ROOT', sent.nodes[dest_ind]['tag'])] = 1\n",
    "            hot_vec[('ROOT', sent.nodes[dest_ind]['word'])] = 1\n",
    "\n",
    "    return hot_vec\n",
    "\n",
    "\n",
    "\n",
    "\n"
   ],
   "metadata": {
    "collapsed": false
   }
  }
 ],
 "metadata": {
  "kernelspec": {
   "display_name": "Python 3",
   "language": "python",
   "name": "python3"
  },
  "language_info": {
   "codemirror_mode": {
    "name": "ipython",
    "version": 2
   },
   "file_extension": ".py",
   "mimetype": "text/x-python",
   "name": "python",
   "nbconvert_exporter": "python",
   "pygments_lexer": "ipython2",
   "version": "2.7.6"
  }
 },
 "nbformat": 4,
 "nbformat_minor": 0
}
