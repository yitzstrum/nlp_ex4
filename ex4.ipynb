{
 "cells": [
  {
   "cell_type": "code",
   "execution_count": 12,
   "metadata": {
    "collapsed": true
   },
   "outputs": [],
   "source": [
    "import nltk\n",
    "from collections import deque\n",
    "# nltk.download('dependency_treebank')\n",
    "from nltk.corpus import dependency_treebank\n",
    "import numpy as np\n",
    "\n",
    "sents = dependency_treebank.parsed_sents()\n",
    "\n",
    "train_set, test_set = sents[:int(0.9*len(sents))], sents[int(0.9*len(sents)):]"
   ]
  },
  {
   "cell_type": "code",
   "execution_count": 15,
   "outputs": [
    {
     "ename": "KeyboardInterrupt",
     "evalue": "",
     "output_type": "error",
     "traceback": [
      "\u001B[1;31m---------------------------------------------------------------------------\u001B[0m",
      "\u001B[1;31mKeyboardInterrupt\u001B[0m                         Traceback (most recent call last)",
      "Cell \u001B[1;32mIn [15], line 32\u001B[0m\n\u001B[0;32m     30\u001B[0m             tag_ind\u001B[38;5;241m+\u001B[39m\u001B[38;5;241m=\u001B[39m\u001B[38;5;241m1\u001B[39m\n\u001B[0;32m     31\u001B[0m     \u001B[38;5;28;01mreturn\u001B[39;00m fill_hot_vec(sent,vocab,tags)\n\u001B[1;32m---> 32\u001B[0m a \u001B[38;5;241m=\u001B[39m \u001B[43mfeature_func\u001B[49m\u001B[43m(\u001B[49m\u001B[43mtrain_set\u001B[49m\u001B[43m[\u001B[49m\u001B[38;5;241;43m1\u001B[39;49m\u001B[43m]\u001B[49m\u001B[43m)\u001B[49m\n\u001B[0;32m     33\u001B[0m \u001B[38;5;28mprint\u001B[39m(a)\n",
      "Cell \u001B[1;32mIn [15], line 31\u001B[0m, in \u001B[0;36mfeature_func\u001B[1;34m(sent)\u001B[0m\n\u001B[0;32m     29\u001B[0m         tags[node[\u001B[38;5;124m'\u001B[39m\u001B[38;5;124mtag\u001B[39m\u001B[38;5;124m'\u001B[39m]] \u001B[38;5;241m=\u001B[39m tag_ind\n\u001B[0;32m     30\u001B[0m         tag_ind\u001B[38;5;241m+\u001B[39m\u001B[38;5;241m=\u001B[39m\u001B[38;5;241m1\u001B[39m\n\u001B[1;32m---> 31\u001B[0m \u001B[38;5;28;01mreturn\u001B[39;00m \u001B[43mfill_hot_vec\u001B[49m\u001B[43m(\u001B[49m\u001B[43msent\u001B[49m\u001B[43m,\u001B[49m\u001B[43mvocab\u001B[49m\u001B[43m,\u001B[49m\u001B[43mtags\u001B[49m\u001B[43m)\u001B[49m\n",
      "Cell \u001B[1;32mIn [15], line 17\u001B[0m, in \u001B[0;36mfill_hot_vec\u001B[1;34m(sents, vocab, tags)\u001B[0m\n\u001B[0;32m     14\u001B[0m     vocab_hot_vec[(source_word_ind\u001B[38;5;241m-\u001B[39m\u001B[38;5;241m1\u001B[39m)\u001B[38;5;241m*\u001B[39mn\u001B[38;5;241m+\u001B[39m(dest_word_ind\u001B[38;5;241m-\u001B[39m\u001B[38;5;241m1\u001B[39m)] \u001B[38;5;241m=\u001B[39m \u001B[38;5;241m1\u001B[39m\n\u001B[0;32m     15\u001B[0m     tags_hot_vec[(source_tag_ind\u001B[38;5;241m-\u001B[39m\u001B[38;5;241m1\u001B[39m)\u001B[38;5;241m*\u001B[39mn\u001B[38;5;241m+\u001B[39m(dest_tag_ind\u001B[38;5;241m-\u001B[39m\u001B[38;5;241m1\u001B[39m)] \u001B[38;5;241m=\u001B[39m \u001B[38;5;241m1\u001B[39m\n\u001B[1;32m---> 17\u001B[0m \u001B[38;5;28;01mreturn\u001B[39;00m \u001B[43mnp\u001B[49m\u001B[38;5;241m.\u001B[39mconcatenate((vocab_hot_vec,tags_hot_vec),axis\u001B[38;5;241m=\u001B[39m\u001B[38;5;241m0\u001B[39m)\n",
      "Cell \u001B[1;32mIn [15], line 17\u001B[0m, in \u001B[0;36mfill_hot_vec\u001B[1;34m(sents, vocab, tags)\u001B[0m\n\u001B[0;32m     14\u001B[0m     vocab_hot_vec[(source_word_ind\u001B[38;5;241m-\u001B[39m\u001B[38;5;241m1\u001B[39m)\u001B[38;5;241m*\u001B[39mn\u001B[38;5;241m+\u001B[39m(dest_word_ind\u001B[38;5;241m-\u001B[39m\u001B[38;5;241m1\u001B[39m)] \u001B[38;5;241m=\u001B[39m \u001B[38;5;241m1\u001B[39m\n\u001B[0;32m     15\u001B[0m     tags_hot_vec[(source_tag_ind\u001B[38;5;241m-\u001B[39m\u001B[38;5;241m1\u001B[39m)\u001B[38;5;241m*\u001B[39mn\u001B[38;5;241m+\u001B[39m(dest_tag_ind\u001B[38;5;241m-\u001B[39m\u001B[38;5;241m1\u001B[39m)] \u001B[38;5;241m=\u001B[39m \u001B[38;5;241m1\u001B[39m\n\u001B[1;32m---> 17\u001B[0m \u001B[38;5;28;01mreturn\u001B[39;00m \u001B[43mnp\u001B[49m\u001B[38;5;241m.\u001B[39mconcatenate((vocab_hot_vec,tags_hot_vec),axis\u001B[38;5;241m=\u001B[39m\u001B[38;5;241m0\u001B[39m)\n",
      "File \u001B[1;32m_pydevd_bundle\\pydevd_cython_win32_38_64.pyx:1179\u001B[0m, in \u001B[0;36m_pydevd_bundle.pydevd_cython_win32_38_64.SafeCallWrapper.__call__\u001B[1;34m()\u001B[0m\n",
      "File \u001B[1;32m_pydevd_bundle\\pydevd_cython_win32_38_64.pyx:620\u001B[0m, in \u001B[0;36m_pydevd_bundle.pydevd_cython_win32_38_64.PyDBFrame.trace_dispatch\u001B[1;34m()\u001B[0m\n",
      "File \u001B[1;32m_pydevd_bundle\\pydevd_cython_win32_38_64.pyx:929\u001B[0m, in \u001B[0;36m_pydevd_bundle.pydevd_cython_win32_38_64.PyDBFrame.trace_dispatch\u001B[1;34m()\u001B[0m\n",
      "File \u001B[1;32m_pydevd_bundle\\pydevd_cython_win32_38_64.pyx:920\u001B[0m, in \u001B[0;36m_pydevd_bundle.pydevd_cython_win32_38_64.PyDBFrame.trace_dispatch\u001B[1;34m()\u001B[0m\n",
      "File \u001B[1;32m_pydevd_bundle\\pydevd_cython_win32_38_64.pyx:317\u001B[0m, in \u001B[0;36m_pydevd_bundle.pydevd_cython_win32_38_64.PyDBFrame.do_wait_suspend\u001B[1;34m()\u001B[0m\n",
      "File \u001B[1;32m~\\AppData\\Local\\JetBrains\\Toolbox\\apps\\PyCharm-P\\ch-0\\222.4459.20\\plugins\\python\\helpers\\pydev\\pydevd.py:1160\u001B[0m, in \u001B[0;36mPyDB.do_wait_suspend\u001B[1;34m(self, thread, frame, event, arg, send_suspend_message, is_unhandled_exception)\u001B[0m\n\u001B[0;32m   1157\u001B[0m         from_this_thread\u001B[38;5;241m.\u001B[39mappend(frame_id)\n\u001B[0;32m   1159\u001B[0m \u001B[38;5;28;01mwith\u001B[39;00m \u001B[38;5;28mself\u001B[39m\u001B[38;5;241m.\u001B[39m_threads_suspended_single_notification\u001B[38;5;241m.\u001B[39mnotify_thread_suspended(thread_id, stop_reason):\n\u001B[1;32m-> 1160\u001B[0m     \u001B[38;5;28;43mself\u001B[39;49m\u001B[38;5;241;43m.\u001B[39;49m\u001B[43m_do_wait_suspend\u001B[49m\u001B[43m(\u001B[49m\u001B[43mthread\u001B[49m\u001B[43m,\u001B[49m\u001B[43m \u001B[49m\u001B[43mframe\u001B[49m\u001B[43m,\u001B[49m\u001B[43m \u001B[49m\u001B[43mevent\u001B[49m\u001B[43m,\u001B[49m\u001B[43m \u001B[49m\u001B[43marg\u001B[49m\u001B[43m,\u001B[49m\u001B[43m \u001B[49m\u001B[43msuspend_type\u001B[49m\u001B[43m,\u001B[49m\u001B[43m \u001B[49m\u001B[43mfrom_this_thread\u001B[49m\u001B[43m)\u001B[49m\n",
      "File \u001B[1;32m~\\AppData\\Local\\JetBrains\\Toolbox\\apps\\PyCharm-P\\ch-0\\222.4459.20\\plugins\\python\\helpers\\pydev\\pydevd.py:1175\u001B[0m, in \u001B[0;36mPyDB._do_wait_suspend\u001B[1;34m(self, thread, frame, event, arg, suspend_type, from_this_thread)\u001B[0m\n\u001B[0;32m   1172\u001B[0m             \u001B[38;5;28mself\u001B[39m\u001B[38;5;241m.\u001B[39m_call_mpl_hook()\n\u001B[0;32m   1174\u001B[0m         \u001B[38;5;28mself\u001B[39m\u001B[38;5;241m.\u001B[39mprocess_internal_commands()\n\u001B[1;32m-> 1175\u001B[0m         \u001B[43mtime\u001B[49m\u001B[38;5;241;43m.\u001B[39;49m\u001B[43msleep\u001B[49m\u001B[43m(\u001B[49m\u001B[38;5;241;43m0.01\u001B[39;49m\u001B[43m)\u001B[49m\n\u001B[0;32m   1177\u001B[0m \u001B[38;5;28mself\u001B[39m\u001B[38;5;241m.\u001B[39mcancel_async_evaluation(get_current_thread_id(thread), \u001B[38;5;28mstr\u001B[39m(\u001B[38;5;28mid\u001B[39m(frame)))\n\u001B[0;32m   1179\u001B[0m \u001B[38;5;66;03m# process any stepping instructions\u001B[39;00m\n",
      "\u001B[1;31mKeyboardInterrupt\u001B[0m: "
     ]
    }
   ],
   "source": [
    "def create_hot_vec(vals):\n",
    "    n = len(vals)\n",
    "    vec = np.zeros((n**2,1))\n",
    "    return vec\n",
    "\n",
    "def fill_hot_vec(sents, vocab, tags):\n",
    "    n = len(sents.nodes)\n",
    "    vocab_hot_vec, tags_hot_vec = create_hot_vec(vocab), create_hot_vec(tags)\n",
    "    for i in range(1,len(sents.nodes)):\n",
    "        dest_node = sents.nodes[i]\n",
    "        source_node = sents.nodes[dest_node['head']]\n",
    "        source_word_ind,source_tag_ind = vocab[source_node['word']],tags[source_node['tag']]\n",
    "        dest_word_ind , dest_tag_ind = vocab[dest_node['word']],tags[dest_node['tag']]\n",
    "        vocab_hot_vec[(source_word_ind-1)*n+(dest_word_ind-1)] = 1\n",
    "        tags_hot_vec[(source_tag_ind-1)*n+(dest_tag_ind-1)] = 1\n",
    "\n",
    "    return np.concatenate((vocab_hot_vec,tags_hot_vec),axis=0)\n",
    "\n",
    "def feature_func(sent):\n",
    "    tags,vocab = dict(), dict()\n",
    "    nodes_stack = [sent.nodes[i] for i in range(len(sent.nodes))]\n",
    "    words_ind,tag_ind =0,0\n",
    "    for i in range(len(nodes_stack)):\n",
    "        node = nodes_stack[i]\n",
    "        if node['word'] not in vocab:\n",
    "            vocab[node['word']] = words_ind\n",
    "            words_ind+=1\n",
    "        if node['tag'] not in tags:\n",
    "            tags[node['tag']] = tag_ind\n",
    "            tag_ind+=1\n",
    "    return fill_hot_vec(sent,vocab,tags)\n",
    "a = feature_func(train_set[1])"
   ],
   "metadata": {
    "collapsed": false
   }
  },
  {
   "cell_type": "code",
   "execution_count": null,
   "outputs": [],
   "source": [
    "LEARNING_RATE = 1\n",
    "def perceptron(X, y0, max_iter=1000):\n",
    "    \"\"\"\n",
    "    :param X: samples matrix (N x P)\n",
    "    :param y0: labels vector (P x 1)\n",
    "    :param max_iter: maximal number of iterations\n",
    "    :return: [w, converged, epochs], 'w' being the final weights vector, 'converged' as a flag indicating convergence of\n",
    "    the algorithm and 'epochs' as the number of epochs executed.\n",
    "    \"\"\"\n",
    "    it = 0\n",
    "    w = np.ones((X.shape[0],))\n",
    "    changed = True\n",
    "\n",
    "    while it < max_iter and changed:\n",
    "\n",
    "        changed = False\n",
    "\n",
    "        for i in range(X.shape[1]):\n",
    "\n",
    "            if ((w.T @ X[:, i]) * y0[i]) < 0:\n",
    "                w += LEARNING_RATE * X[:, i] * y0[i]\n",
    "                changed = True\n",
    "\n",
    "        it += 1\n",
    "\n",
    "    return [w, it < max_iter, it]\n",
    "\n"
   ],
   "metadata": {
    "collapsed": false
   }
  },
  {
   "cell_type": "code",
   "execution_count": null,
   "outputs": [],
   "source": [
    "def perceptron(train_sent)"
   ],
   "metadata": {
    "collapsed": false
   }
  }
 ],
 "metadata": {
  "kernelspec": {
   "display_name": "Python 3",
   "language": "python",
   "name": "python3"
  },
  "language_info": {
   "codemirror_mode": {
    "name": "ipython",
    "version": 2
   },
   "file_extension": ".py",
   "mimetype": "text/x-python",
   "name": "python",
   "nbconvert_exporter": "python",
   "pygments_lexer": "ipython2",
   "version": "2.7.6"
  }
 },
 "nbformat": 4,
 "nbformat_minor": 0
}
